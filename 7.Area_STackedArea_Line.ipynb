{
 "cells": [
  {
   "cell_type": "markdown",
   "metadata": {},
   "source": [
    "Area chart"
   ]
  },
  {
   "cell_type": "code",
   "execution_count": null,
   "metadata": {},
   "outputs": [],
   "source": [
    "import matplotlib.pyplot as plt\n",
    "\n",
    "# Data\n",
    "x_values = [1, 2, 3, 4, 5]\n",
    "y_values = [2, 4, 1, 6, 3]\n",
    "\n",
    "# Area Chart\n",
    "plt.fill_between(x_values, y_values, color='skyblue', alpha=0.4)\n",
    "\n",
    "# Adding labels and title\n",
    "plt.xlabel('X-axis')\n",
    "plt.ylabel('Y-axis')\n",
    "plt.title('Area Chart Example')\n",
    "\n",
    "# Display the plot\n",
    "plt.show()\n"
   ]
  },
  {
   "cell_type": "markdown",
   "metadata": {},
   "source": [
    "Stacked Area"
   ]
  },
  {
   "cell_type": "code",
   "execution_count": null,
   "metadata": {},
   "outputs": [],
   "source": [
    "import matplotlib.pyplot as plt\n",
    "\n",
    "# Data\n",
    "x_values = [1, 2, 3, 4, 5]\n",
    "y1_values = [2, 4, 1, 6, 3]\n",
    "y2_values = [1, 3, 2, 5, 4]\n",
    "\n",
    "# Stacked Area Chart\n",
    "plt.stackplot(x_values, y1_values, y2_values, labels=['Category 1', 'Category 2'], alpha=0.7)\n",
    "\n",
    "# Adding labels and title\n",
    "plt.xlabel('X-axis')\n",
    "plt.ylabel('Y-axis')\n",
    "plt.title('Stacked Area Chart Example')\n",
    "\n",
    "# Adding legend\n",
    "plt.legend()\n",
    "\n",
    "# Display the plot\n",
    "plt.show()\n"
   ]
  },
  {
   "cell_type": "markdown",
   "metadata": {},
   "source": [
    "Line Chart"
   ]
  },
  {
   "cell_type": "code",
   "execution_count": null,
   "metadata": {},
   "outputs": [],
   "source": [
    "import matplotlib.pyplot as plt\n",
    "\n",
    "# Data\n",
    "x_values = [1, 2, 3, 4, 5]\n",
    "y_values = [2, 4, 1, 6, 3]\n",
    "\n",
    "# Line Chart\n",
    "plt.plot(x_values, y_values, marker='o', linestyle='-', color='b', label='Data')\n",
    "\n",
    "# Adding labels and title\n",
    "plt.xlabel('X-axis')\n",
    "plt.ylabel('Y-axis')\n",
    "plt.title('Line Chart Example')\n",
    "\n",
    "# Adding legend\n",
    "plt.legend()\n",
    "\n",
    "# Display the plot\n",
    "plt.show()\n"
   ]
  }
 ],
 "metadata": {
  "language_info": {
   "name": "python"
  }
 },
 "nbformat": 4,
 "nbformat_minor": 2
}
