{
 "cells": [
  {
   "cell_type": "code",
   "execution_count": null,
   "metadata": {},
   "outputs": [],
   "source": [
    "#OUTLIER DETECTION\n",
    "\n",
    "import numpy as np\n",
    "\n",
    "# Generate sample data\n",
    "np.random.seed(0)\n",
    "data = np.random.randn(100) * 10 + 50  # Normal distribution with mean 50 and std deviation 10\n",
    "data[5] = 150  # Introduce an outlier\n",
    "\n",
    "# Define threshold for Z-Score\n",
    "threshold = 3\n",
    "\n",
    "# Calculate Z-Scores\n",
    "z_scores = (data - np.mean(data)) / np.std(data)\n",
    "\n",
    "# Identify outliers\n",
    "outliers = np.abs(z_scores) > threshold\n",
    "\n",
    "# Remove outliers\n",
    "cleaned_data = data[~outliers]\n",
    "\n",
    "# Visualize original and cleaned data\n",
    "import matplotlib.pyplot as plt\n",
    "\n",
    "plt.figure(figsize=(10, 6))\n",
    "plt.subplot(2, 1, 1)\n",
    "plt.plot(data, 'b-', label='Original Data')\n",
    "plt.plot(np.where(outliers)[0], data[outliers], 'ro', label='Outliers')\n",
    "plt.legend()\n",
    "plt.title('Original Data with Outliers')\n",
    "\n",
    "plt.subplot(2, 1, 2)\n",
    "plt.plot(cleaned_data, 'g-', label='Cleaned Data')\n",
    "plt.title('Cleaned Data without Outliers')\n",
    "plt.legend()\n",
    "\n",
    "plt.tight_layout()\n",
    "plt.show()\n"
   ]
  }
 ],
 "metadata": {
  "language_info": {
   "name": "python"
  }
 },
 "nbformat": 4,
 "nbformat_minor": 2
}
