{
 "cells": [
  {
   "cell_type": "markdown",
   "metadata": {},
   "source": [
    "Line chart"
   ]
  },
  {
   "cell_type": "code",
   "execution_count": null,
   "metadata": {},
   "outputs": [],
   "source": [
    "import matplotlib.pyplot as plt\n",
    "\n",
    "# Data\n",
    "x_values = [1, 2, 3, 4, 5]\n",
    "y_values = [2, 4, 1, 6, 3]\n",
    "\n",
    "# Line Chart\n",
    "plt.plot(x_values, y_values, marker='o', linestyle='-', color='b', label='Data')\n",
    "\n",
    "# Adding labels and title\n",
    "plt.xlabel('X-axis')\n",
    "plt.ylabel('Y-axis')\n",
    "plt.title('Line Chart Example')\n",
    "\n",
    "# Adding legend\n",
    "plt.legend()\n",
    "\n",
    "# Display the plot\n",
    "plt.show()"
   ]
  },
  {
   "cell_type": "markdown",
   "metadata": {},
   "source": [
    "Candle Stcik"
   ]
  },
  {
   "cell_type": "code",
   "execution_count": null,
   "metadata": {},
   "outputs": [],
   "source": [
    "#!pip install mplfinance\n",
    "import matplotlib.pyplot as plt\n",
    "from mplfinance.original_flavor import candlestick_ohlc\n",
    "import matplotlib.dates as mdates\n",
    "import pandas as pd\n",
    "\n",
    "ohlc_data = [\n",
    "    (mdates.date2num(pd.to_datetime('2022-01-01')), 100, 120, 80, 110),\n",
    "    (mdates.date2num(pd.to_datetime('2022-01-02')), 110, 130, 90, 120),\n",
    "    (mdates.date2num(pd.to_datetime('2022-01-03')), 120, 140, 100, 130),\n",
    "]\n",
    "\n",
    "fig, ax = plt.subplots()\n",
    "candlestick_ohlc(ax, ohlc_data, width=0.6, colorup='g', colordown='r')\n",
    "\n",
    "ax.xaxis_date()\n",
    "ax.xaxis.set_major_formatter(mdates.DateFormatter('%Y-%m-%d'))\n",
    "\n",
    "plt.xlabel('Date')\n",
    "plt.ylabel('Price')\n",
    "plt.title('Candlestick Chart Example')\n",
    "\n",
    "plt.show()"
   ]
  }
 ],
 "metadata": {
  "language_info": {
   "name": "python"
  }
 },
 "nbformat": 4,
 "nbformat_minor": 2
}
