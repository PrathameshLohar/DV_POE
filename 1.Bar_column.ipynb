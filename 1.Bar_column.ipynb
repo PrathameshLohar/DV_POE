{
 "cells": [
  {
   "cell_type": "markdown",
   "metadata": {},
   "source": [
    "Bar Chart"
   ]
  },
  {
   "cell_type": "code",
   "execution_count": null,
   "metadata": {},
   "outputs": [],
   "source": [
    "import matplotlib.pyplot as plt\n",
    "\n",
    "categories = ['Category A', 'Category B', 'Category C']\n",
    "values = [10, 15, 8]\n",
    "\n",
    "plt.bar(categories, values)\n",
    "plt.xlabel('Categories')\n",
    "plt.ylabel('Values')\n",
    "plt.title('Bar Chart Example')\n",
    "plt.show()\n"
   ]
  },
  {
   "cell_type": "markdown",
   "metadata": {},
   "source": [
    "Column "
   ]
  },
  {
   "cell_type": "code",
   "execution_count": null,
   "metadata": {},
   "outputs": [],
   "source": [
    "import matplotlib.pyplot as plt\n",
    "\n",
    "categories = ['Category A', 'Category B', 'Category C']\n",
    "values = [10, 15, 8]\n",
    "\n",
    "plt.barh(categories, values)  # Use barh for horizontal columns\n",
    "plt.xlabel('Values')\n",
    "plt.ylabel('Categories')\n",
    "plt.title('Column Chart Example')\n",
    "plt.show()\n"
   ]
  }
 ],
 "metadata": {
  "language_info": {
   "name": "python"
  }
 },
 "nbformat": 4,
 "nbformat_minor": 2
}
