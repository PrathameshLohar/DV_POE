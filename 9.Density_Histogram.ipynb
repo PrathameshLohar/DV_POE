{
 "cells": [
  {
   "cell_type": "markdown",
   "metadata": {},
   "source": [
    "Density plot"
   ]
  },
  {
   "cell_type": "code",
   "execution_count": null,
   "metadata": {},
   "outputs": [],
   "source": [
    "import seaborn as sns\n",
    "import matplotlib.pyplot as plt\n",
    "\n",
    "data = sns.load_dataset('iris')\n",
    "\n",
    "sns.kdeplot(data['sepal_length'], label='Sepal Length', shade=True)\n",
    "\n",
    "plt.xlabel('Sepal Length')\n",
    "plt.ylabel('Density')\n",
    "plt.title('Density Plot Example')\n",
    "\n",
    "plt.show()"
   ]
  },
  {
   "cell_type": "markdown",
   "metadata": {},
   "source": [
    "Histogram"
   ]
  },
  {
   "cell_type": "code",
   "execution_count": null,
   "metadata": {},
   "outputs": [],
   "source": [
    "import seaborn as sns\n",
    "import matplotlib.pyplot as plt\n",
    "\n",
    "# Sample data\n",
    "data = sns.load_dataset('iris')\n",
    "\n",
    "# Histogram\n",
    "sns.histplot(data['sepal_length'], bins=20, kde=False)\n",
    "\n",
    "# Adding labels and title\n",
    "plt.xlabel('Sepal Length')\n",
    "plt.ylabel('Frequency')\n",
    "plt.title('Histogram Example')\n",
    "\n",
    "# Display the plot\n",
    "plt.show()\n"
   ]
  }
 ],
 "metadata": {
  "language_info": {
   "name": "python"
  }
 },
 "nbformat": 4,
 "nbformat_minor": 2
}
